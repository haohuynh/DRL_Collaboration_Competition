{
 "cells": [
  {
   "cell_type": "markdown",
   "metadata": {},
   "source": [
    "# Collaboration and Competition\n",
    "\n",
    "---\n",
    "\n",
    "You are welcome to use this coding environment to train your agent for the project.  Follow the instructions below to get started!\n",
    "\n",
    "### 1. Start the Environment\n",
    "\n",
    "Run the next code cell to install a few packages.  This line will take a few minutes to run!"
   ]
  },
  {
   "cell_type": "code",
   "execution_count": 1,
   "metadata": {},
   "outputs": [
    {
     "name": "stdout",
     "output_type": "stream",
     "text": [
      "Collecting numpy==1.13.3\n",
      "\u001b[?25l  Downloading https://files.pythonhosted.org/packages/57/a7/e3e6bd9d595125e1abbe162e323fd2d06f6f6683185294b79cd2cdb190d5/numpy-1.13.3-cp36-cp36m-manylinux1_x86_64.whl (17.0MB)\n",
      "\u001b[K    100% |████████████████████████████████| 17.0MB 1.1MB/s eta 0:00:01\n",
      "\u001b[?25hInstalling collected packages: numpy\n",
      "  Found existing installation: numpy 1.12.1\n",
      "    Uninstalling numpy-1.12.1:\n",
      "      Successfully uninstalled numpy-1.12.1\n",
      "Successfully installed numpy-1.13.3\n",
      "Collecting widgetsnbextension==3.0.0\n",
      "\u001b[?25l  Downloading https://files.pythonhosted.org/packages/f3/7b/8591debe2bb7907a70d2aecee05baac918abb3541018a07748f1a56f67df/widgetsnbextension-3.0.0-py2.py3-none-any.whl (2.5MB)\n",
      "\u001b[K    100% |████████████████████████████████| 2.5MB 7.3MB/s eta 0:00:01\n",
      "\u001b[?25hRequirement already satisfied: notebook>=4.4.1 in /opt/conda/lib/python3.6/site-packages (from widgetsnbextension==3.0.0) (5.7.0)\n",
      "Requirement already satisfied: jinja2 in /opt/conda/lib/python3.6/site-packages (from notebook>=4.4.1->widgetsnbextension==3.0.0) (2.10)\n",
      "Requirement already satisfied: tornado>=4 in /opt/conda/lib/python3.6/site-packages (from notebook>=4.4.1->widgetsnbextension==3.0.0) (4.5.3)\n",
      "Requirement already satisfied: pyzmq>=17 in /opt/conda/lib/python3.6/site-packages (from notebook>=4.4.1->widgetsnbextension==3.0.0) (17.1.2)\n",
      "Requirement already satisfied: ipython_genutils in /opt/conda/lib/python3.6/site-packages (from notebook>=4.4.1->widgetsnbextension==3.0.0) (0.2.0)\n",
      "Requirement already satisfied: traitlets>=4.2.1 in /opt/conda/lib/python3.6/site-packages (from notebook>=4.4.1->widgetsnbextension==3.0.0) (4.3.2)\n",
      "Requirement already satisfied: jupyter_core>=4.4.0 in /opt/conda/lib/python3.6/site-packages (from notebook>=4.4.1->widgetsnbextension==3.0.0) (4.4.0)\n",
      "Requirement already satisfied: jupyter_client>=5.2.0 in /opt/conda/lib/python3.6/site-packages (from notebook>=4.4.1->widgetsnbextension==3.0.0) (5.2.4)\n",
      "Requirement already satisfied: nbformat in /opt/conda/lib/python3.6/site-packages (from notebook>=4.4.1->widgetsnbextension==3.0.0) (4.4.0)\n",
      "Requirement already satisfied: nbconvert in /opt/conda/lib/python3.6/site-packages (from notebook>=4.4.1->widgetsnbextension==3.0.0) (5.4.0)\n",
      "Requirement already satisfied: ipykernel in /opt/conda/lib/python3.6/site-packages (from notebook>=4.4.1->widgetsnbextension==3.0.0) (4.9.0)\n",
      "Requirement already satisfied: Send2Trash in /opt/conda/lib/python3.6/site-packages (from notebook>=4.4.1->widgetsnbextension==3.0.0) (1.5.0)\n",
      "Requirement already satisfied: terminado>=0.8.1 in /opt/conda/lib/python3.6/site-packages (from notebook>=4.4.1->widgetsnbextension==3.0.0) (0.8.1)\n",
      "Requirement already satisfied: prometheus_client in /opt/conda/lib/python3.6/site-packages (from notebook>=4.4.1->widgetsnbextension==3.0.0) (0.3.1)\n",
      "Requirement already satisfied: MarkupSafe>=0.23 in /opt/conda/lib/python3.6/site-packages (from jinja2->notebook>=4.4.1->widgetsnbextension==3.0.0) (1.0)\n",
      "Requirement already satisfied: six in /opt/conda/lib/python3.6/site-packages (from traitlets>=4.2.1->notebook>=4.4.1->widgetsnbextension==3.0.0) (1.11.0)\n",
      "Requirement already satisfied: decorator in /opt/conda/lib/python3.6/site-packages (from traitlets>=4.2.1->notebook>=4.4.1->widgetsnbextension==3.0.0) (4.0.11)\n",
      "Requirement already satisfied: python-dateutil>=2.1 in /opt/conda/lib/python3.6/site-packages (from jupyter_client>=5.2.0->notebook>=4.4.1->widgetsnbextension==3.0.0) (2.6.1)\n",
      "Requirement already satisfied: jsonschema!=2.5.0,>=2.4 in /opt/conda/lib/python3.6/site-packages (from nbformat->notebook>=4.4.1->widgetsnbextension==3.0.0) (2.6.0)\n",
      "Requirement already satisfied: mistune>=0.8.1 in /opt/conda/lib/python3.6/site-packages (from nbconvert->notebook>=4.4.1->widgetsnbextension==3.0.0) (0.8.3)\n",
      "Requirement already satisfied: pygments in /opt/conda/lib/python3.6/site-packages (from nbconvert->notebook>=4.4.1->widgetsnbextension==3.0.0) (2.2.0)\n",
      "Requirement already satisfied: entrypoints>=0.2.2 in /opt/conda/lib/python3.6/site-packages (from nbconvert->notebook>=4.4.1->widgetsnbextension==3.0.0) (0.2.3)\n",
      "Requirement already satisfied: bleach in /opt/conda/lib/python3.6/site-packages (from nbconvert->notebook>=4.4.1->widgetsnbextension==3.0.0) (1.5.0)\n",
      "Requirement already satisfied: pandocfilters>=1.4.1 in /opt/conda/lib/python3.6/site-packages (from nbconvert->notebook>=4.4.1->widgetsnbextension==3.0.0) (1.4.1)\n",
      "Requirement already satisfied: testpath in /opt/conda/lib/python3.6/site-packages (from nbconvert->notebook>=4.4.1->widgetsnbextension==3.0.0) (0.3.1)\n",
      "Requirement already satisfied: defusedxml in /opt/conda/lib/python3.6/site-packages (from nbconvert->notebook>=4.4.1->widgetsnbextension==3.0.0) (0.5.0)\n",
      "Requirement already satisfied: ipython>=4.0.0 in /opt/conda/lib/python3.6/site-packages (from ipykernel->notebook>=4.4.1->widgetsnbextension==3.0.0) (6.5.0)\n",
      "Requirement already satisfied: html5lib!=0.9999,!=0.99999,<0.99999999,>=0.999 in /opt/conda/lib/python3.6/site-packages (from bleach->nbconvert->notebook>=4.4.1->widgetsnbextension==3.0.0) (0.9999999)\n",
      "Requirement already satisfied: backcall in /opt/conda/lib/python3.6/site-packages (from ipython>=4.0.0->ipykernel->notebook>=4.4.1->widgetsnbextension==3.0.0) (0.1.0)\n",
      "Requirement already satisfied: setuptools>=18.5 in /opt/conda/lib/python3.6/site-packages (from ipython>=4.0.0->ipykernel->notebook>=4.4.1->widgetsnbextension==3.0.0) (38.4.0)\n",
      "Requirement already satisfied: jedi>=0.10 in /opt/conda/lib/python3.6/site-packages (from ipython>=4.0.0->ipykernel->notebook>=4.4.1->widgetsnbextension==3.0.0) (0.10.2)\n",
      "Requirement already satisfied: pexpect; sys_platform != \"win32\" in /opt/conda/lib/python3.6/site-packages (from ipython>=4.0.0->ipykernel->notebook>=4.4.1->widgetsnbextension==3.0.0) (4.3.1)\n",
      "Requirement already satisfied: pickleshare in /opt/conda/lib/python3.6/site-packages (from ipython>=4.0.0->ipykernel->notebook>=4.4.1->widgetsnbextension==3.0.0) (0.7.4)\n",
      "Requirement already satisfied: prompt-toolkit<2.0.0,>=1.0.15 in /opt/conda/lib/python3.6/site-packages (from ipython>=4.0.0->ipykernel->notebook>=4.4.1->widgetsnbextension==3.0.0) (1.0.15)\n",
      "Requirement already satisfied: simplegeneric>0.8 in /opt/conda/lib/python3.6/site-packages (from ipython>=4.0.0->ipykernel->notebook>=4.4.1->widgetsnbextension==3.0.0) (0.8.1)\n",
      "Requirement already satisfied: ptyprocess>=0.5 in /opt/conda/lib/python3.6/site-packages (from pexpect; sys_platform != \"win32\"->ipython>=4.0.0->ipykernel->notebook>=4.4.1->widgetsnbextension==3.0.0) (0.5.2)\n",
      "Requirement already satisfied: wcwidth in /opt/conda/lib/python3.6/site-packages (from prompt-toolkit<2.0.0,>=1.0.15->ipython>=4.0.0->ipykernel->notebook>=4.4.1->widgetsnbextension==3.0.0) (0.1.7)\n",
      "Installing collected packages: widgetsnbextension\n",
      "  Found existing installation: widgetsnbextension 3.1.0\n",
      "    Uninstalling widgetsnbextension-3.1.0:\n",
      "      Successfully uninstalled widgetsnbextension-3.1.0\n",
      "Successfully installed widgetsnbextension-3.0.0\n",
      "Collecting jsonschema==3.0.1\n",
      "\u001b[?25l  Downloading https://files.pythonhosted.org/packages/aa/69/df679dfbdd051568b53c38ec8152a3ab6bc533434fc7ed11ab034bf5e82f/jsonschema-3.0.1-py2.py3-none-any.whl (54kB)\n",
      "\u001b[K    100% |████████████████████████████████| 61kB 4.0MB/s ta 0:00:011\n",
      "\u001b[?25hRequirement already satisfied: pyrsistent>=0.14.0 in /opt/conda/lib/python3.6/site-packages (from jsonschema==3.0.1) (0.15.2)\n",
      "Requirement already satisfied: setuptools in /opt/conda/lib/python3.6/site-packages (from jsonschema==3.0.1) (38.4.0)\n",
      "Requirement already satisfied: attrs>=17.4.0 in /opt/conda/lib/python3.6/site-packages (from jsonschema==3.0.1) (19.1.0)\n",
      "Requirement already satisfied: six>=1.11.0 in /opt/conda/lib/python3.6/site-packages (from jsonschema==3.0.1) (1.11.0)\n",
      "Installing collected packages: jsonschema\n",
      "  Found existing installation: jsonschema 2.6.0\n",
      "    Uninstalling jsonschema-2.6.0:\n",
      "      Successfully uninstalled jsonschema-2.6.0\n",
      "Successfully installed jsonschema-3.0.1\n",
      "Collecting jupyter-client==7.0.0\n",
      "\u001b[?25l  Downloading https://files.pythonhosted.org/packages/18/5f/3092bd72b0462886e63acd48756a6d5fc3d04bca34c4544f158e74fad1d5/jupyter_client-7.0.0-py3-none-any.whl (122kB)\n",
      "\u001b[K    100% |████████████████████████████████| 122kB 4.4MB/s ta 0:00:01\n",
      "\u001b[?25hCollecting nest-asyncio>=1.5 (from jupyter-client==7.0.0)\n"
     ]
    },
    {
     "name": "stdout",
     "output_type": "stream",
     "text": [
      "  Downloading https://files.pythonhosted.org/packages/e9/1a/6dd9ec31cfdb34cef8fea0055b593ee779a6f63c8e8038ad90d71b7f53c0/nest_asyncio-1.5.6-py3-none-any.whl\n",
      "Requirement already satisfied: pyzmq>=13 in /opt/conda/lib/python3.6/site-packages (from jupyter-client==7.0.0) (17.1.2)\n",
      "Requirement already satisfied: python-dateutil>=2.1 in /opt/conda/lib/python3.6/site-packages (from jupyter-client==7.0.0) (2.6.1)\n",
      "Collecting jupyter-core>=4.6.0 (from jupyter-client==7.0.0)\n",
      "\u001b[?25l  Downloading https://files.pythonhosted.org/packages/60/7d/bee50351fe3ff6979e949b9c4c00c556a7a9732ba39b547d07d93450de23/jupyter_core-4.9.2-py3-none-any.whl (86kB)\n",
      "\u001b[K    100% |████████████████████████████████| 92kB 19.7MB/s ta 0:00:01\n",
      "\u001b[?25hRequirement already satisfied: traitlets in /opt/conda/lib/python3.6/site-packages (from jupyter-client==7.0.0) (4.3.2)\n",
      "Requirement already satisfied: entrypoints in /opt/conda/lib/python3.6/site-packages (from jupyter-client==7.0.0) (0.2.3)\n",
      "Requirement already satisfied: tornado>=4.1 in /opt/conda/lib/python3.6/site-packages (from jupyter-client==7.0.0) (4.5.3)\n",
      "Requirement already satisfied: six>=1.5 in /opt/conda/lib/python3.6/site-packages (from python-dateutil>=2.1->jupyter-client==7.0.0) (1.11.0)\n",
      "Requirement already satisfied: decorator in /opt/conda/lib/python3.6/site-packages (from traitlets->jupyter-client==7.0.0) (4.0.11)\n",
      "Requirement already satisfied: ipython-genutils in /opt/conda/lib/python3.6/site-packages (from traitlets->jupyter-client==7.0.0) (0.2.0)\n",
      "Installing collected packages: nest-asyncio, jupyter-core, jupyter-client\n",
      "  Found existing installation: jupyter-core 4.4.0\n",
      "    Uninstalling jupyter-core-4.4.0:\n",
      "      Successfully uninstalled jupyter-core-4.4.0\n",
      "  Found existing installation: jupyter-client 5.2.4\n",
      "    Uninstalling jupyter-client-5.2.4:\n",
      "      Successfully uninstalled jupyter-client-5.2.4\n",
      "Successfully installed jupyter-client-7.0.0 jupyter-core-4.9.2 nest-asyncio-1.5.6\n",
      "Collecting prompt-toolkit==2.0.1\n",
      "\u001b[?25l  Downloading https://files.pythonhosted.org/packages/d1/42/754be071c2e17c18071f8f910844d99f7e7c5588c5afce1d8dbefe2fed91/prompt_toolkit-2.0.1-py3-none-any.whl (322kB)\n",
      "\u001b[K    100% |████████████████████████████████| 327kB 10.0MB/s ta 0:00:01\n",
      "\u001b[?25hRequirement already satisfied: wcwidth in /opt/conda/lib/python3.6/site-packages (from prompt-toolkit==2.0.1) (0.1.7)\n",
      "Requirement already satisfied: six>=1.9.0 in /opt/conda/lib/python3.6/site-packages (from prompt-toolkit==2.0.1) (1.11.0)\n",
      "\u001b[31mipython 6.5.0 has requirement prompt-toolkit<2.0.0,>=1.0.15, but you'll have prompt-toolkit 2.0.1 which is incompatible.\u001b[0m\n",
      "Installing collected packages: prompt-toolkit\n",
      "  Found existing installation: prompt-toolkit 1.0.15\n",
      "    Uninstalling prompt-toolkit-1.0.15:\n",
      "      Successfully uninstalled prompt-toolkit-1.0.15\n",
      "Successfully installed prompt-toolkit-2.0.1\n"
     ]
    }
   ],
   "source": [
    "!pip install numpy==1.13.3\n",
    "!pip install widgetsnbextension==3.0.0\n",
    "!pip install jsonschema==3.0.1\n",
    "!pip install jupyter-client==7.0.0\n",
    "!pip install prompt-toolkit==2.0.1"
   ]
  },
  {
   "cell_type": "code",
   "execution_count": 2,
   "metadata": {},
   "outputs": [],
   "source": [
    "!pip -q install ./python"
   ]
  },
  {
   "cell_type": "code",
   "execution_count": 3,
   "metadata": {},
   "outputs": [
    {
     "name": "stdout",
     "output_type": "stream",
     "text": [
      "Tennis_Linux_NoVis/Tennis.x86_64\r\n"
     ]
    }
   ],
   "source": [
    "!ls Tennis_Linux_NoVis/Tennis.x86_64"
   ]
  },
  {
   "cell_type": "markdown",
   "metadata": {},
   "source": [
    "The environment is already saved in the Workspace and can be accessed at the file path provided below. "
   ]
  },
  {
   "cell_type": "code",
   "execution_count": 4,
   "metadata": {},
   "outputs": [
    {
     "name": "stderr",
     "output_type": "stream",
     "text": [
      "INFO:unityagents:\n",
      "'Academy' started successfully!\n",
      "Unity Academy name: Academy\n",
      "        Number of Brains: 1\n",
      "        Number of External Brains : 1\n",
      "        Lesson number : 0\n",
      "        Reset Parameters :\n",
      "\t\t\n",
      "Unity brain name: TennisBrain\n",
      "        Number of Visual Observations (per agent): 0\n",
      "        Vector Observation space type: continuous\n",
      "        Vector Observation space size (per agent): 8\n",
      "        Number of stacked Vector Observation: 3\n",
      "        Vector Action space type: continuous\n",
      "        Vector Action space size (per agent): 2\n",
      "        Vector Action descriptions: , \n"
     ]
    }
   ],
   "source": [
    "from unityagents import UnityEnvironment\n",
    "import numpy as np\n",
    "\n",
    "env = UnityEnvironment(file_name=\"Tennis_Linux_NoVis/Tennis.x86_64\")"
   ]
  },
  {
   "cell_type": "markdown",
   "metadata": {},
   "source": [
    "Environments contain **_brains_** which are responsible for deciding the actions of their associated agents. Here we check for the first brain available, and set it as the default brain we will be controlling from Python."
   ]
  },
  {
   "cell_type": "code",
   "execution_count": 5,
   "metadata": {},
   "outputs": [],
   "source": [
    "# get the default brain\n",
    "brain_name = env.brain_names[0]\n",
    "brain = env.brains[brain_name]"
   ]
  },
  {
   "cell_type": "markdown",
   "metadata": {},
   "source": [
    "### 2. Examine the State and Action Spaces\n",
    "\n",
    "Run the code cell below to print some information about the environment."
   ]
  },
  {
   "cell_type": "code",
   "execution_count": 6,
   "metadata": {},
   "outputs": [
    {
     "name": "stdout",
     "output_type": "stream",
     "text": [
      "Number of agents: 2\n",
      "Size of each action: 2\n",
      "There are 2 agents. Each observes a state with length: 24\n",
      "The state for the first agent looks like: [ 0.          0.          0.          0.          0.          0.          0.\n",
      "  0.          0.          0.          0.          0.          0.          0.\n",
      "  0.          0.         -6.65278625 -1.5        -0.          0.\n",
      "  6.83172083  6.         -0.          0.        ]\n"
     ]
    }
   ],
   "source": [
    "# reset the environment\n",
    "env_info = env.reset(train_mode=True)[brain_name]\n",
    "\n",
    "# number of agents \n",
    "num_agents = len(env_info.agents)\n",
    "print('Number of agents:', num_agents)\n",
    "\n",
    "# size of each action\n",
    "action_size = brain.vector_action_space_size\n",
    "print('Size of each action:', action_size)\n",
    "\n",
    "# examine the state space \n",
    "states = env_info.vector_observations\n",
    "state_size = states.shape[1]\n",
    "print('There are {} agents. Each observes a state with length: {}'.format(states.shape[0], state_size))\n",
    "print('The state for the first agent looks like:', states[0])"
   ]
  },
  {
   "cell_type": "markdown",
   "metadata": {},
   "source": [
    "### 3. Take Random Actions in the Environment\n",
    "\n",
    "In the next code cell, you will learn how to use the Python API to control the agent and receive feedback from the environment.\n",
    "\n",
    "Note that **in this coding environment, you will not be able to watch the agents while they are training**, and you should set `train_mode=True` to restart the environment."
   ]
  },
  {
   "cell_type": "code",
   "execution_count": 7,
   "metadata": {},
   "outputs": [
    {
     "name": "stdout",
     "output_type": "stream",
     "text": [
      "Total score (averaged over agents) this episode: -0.004999999888241291\n",
      "Total score (averaged over agents) this episode: -0.004999999888241291\n",
      "Total score (averaged over agents) this episode: -0.004999999888241291\n",
      "Total score (averaged over agents) this episode: -0.004999999888241291\n",
      "Total score (averaged over agents) this episode: 0.04500000085681677\n"
     ]
    }
   ],
   "source": [
    "from workspace_utils import active_session\n",
    "with active_session():\n",
    "    for i in range(5):                                         # play game for 5 episodes\n",
    "        env_info = env.reset(train_mode=False)[brain_name]     # reset the environment    \n",
    "        states = env_info.vector_observations                  # get the current state (for each agent)\n",
    "        scores = np.zeros(num_agents)                          # initialize the score (for each agent)\n",
    "        while True:\n",
    "            actions = np.random.randn(num_agents, action_size) # select an action (for each agent)\n",
    "            actions = np.clip(actions, -1, 1)                  # all actions between -1 and 1\n",
    "            env_info = env.step(actions)[brain_name]           # send all actions to tne environment\n",
    "            next_states = env_info.vector_observations         # get next state (for each agent)\n",
    "            rewards = env_info.rewards                         # get reward (for each agent)\n",
    "            dones = env_info.local_done                        # see if episode finished\n",
    "            scores += env_info.rewards                         # update the score (for each agent)\n",
    "            states = next_states                               # roll over states to next time step\n",
    "            if np.any(dones):                                  # exit loop if episode finished\n",
    "                break\n",
    "        print('Total score (averaged over agents) this episode: {}'.format(np.mean(scores)))"
   ]
  },
  {
   "cell_type": "markdown",
   "metadata": {},
   "source": [
    "### 4. It's Your Turn!\n",
    "\n",
    "Now it's your turn to train your own agent to solve the environment!  A few **important notes**:\n",
    "- When training the environment, set `train_mode=True`, so that the line for resetting the environment looks like the following:\n",
    "```python\n",
    "env_info = env.reset(train_mode=True)[brain_name]\n",
    "```\n",
    "- To structure your work, you're welcome to work directly in this Jupyter notebook, or you might like to start over with a new file!  You can see the list of files in the workspace by clicking on **_Jupyter_** in the top left corner of the notebook.\n",
    "- In this coding environment, you will not be able to watch the agents while they are training.  However, **_after training the agents_**, you can download the saved model weights to watch the agents on your own machine! "
   ]
  },
  {
   "cell_type": "code",
   "execution_count": 7,
   "metadata": {},
   "outputs": [],
   "source": [
    "from ddpg_agent import Agent\n",
    "import torch\n",
    "from collections import deque\n",
    "import matplotlib.pyplot as plt\n",
    "%matplotlib inline\n",
    "\n",
    "\n",
    "agent = Agent(state_size, action_size, 2, num_agents)"
   ]
  },
  {
   "cell_type": "markdown",
   "metadata": {},
   "source": [
    "###### Workspace Checkpoints"
   ]
  },
  {
   "cell_type": "code",
   "execution_count": 8,
   "metadata": {},
   "outputs": [],
   "source": [
    "import pickle\n",
    "\n",
    "scores_deque = deque(maxlen=100)\n",
    "scores_total = []\n",
    "\n",
    "return_episode = 1"
   ]
  },
  {
   "cell_type": "code",
   "execution_count": 10,
   "metadata": {},
   "outputs": [],
   "source": [
    "with open('return_episode.pkl', 'rb') as f: # load return_episode\n",
    "    return_episode = pickle.load(f) \n",
    "    \n",
    "with open('scores_deque.pkl', 'rb') as f: # load scores_deque\n",
    "    scores_deque = pickle.load(f) \n",
    "    \n",
    "with open('scores_total.pkl', 'rb') as f: # load scores_total\n",
    "    scores_total = pickle.load(f) \n",
    "\n",
    "''' Load Actor-Critic Networks '''\n",
    "agent.actor_local.load_state_dict(torch.load('checkpoint_actor.pth'))\n",
    "agent.critic_local.load_state_dict(torch.load('checkpoint_critic.pth'))"
   ]
  },
  {
   "cell_type": "markdown",
   "metadata": {},
   "source": [
    "###### Multiple DDPG Agents"
   ]
  },
  {
   "cell_type": "code",
   "execution_count": 9,
   "metadata": {},
   "outputs": [
    {
     "name": "stdout",
     "output_type": "stream",
     "text": [
      "Episode 100\tAverage Score: 0.00\n",
      "Episode 200\tAverage Score: 0.01\n",
      "Episode 300\tAverage Score: 0.02\n",
      "Episode 400\tAverage Score: 0.06\n",
      "Episode 500\tAverage Score: 0.17\n",
      "Episode 600\tAverage Score: 0.39\n",
      "Episode 662\tAverage Score: 0.50\n",
      "Environment solved in 562 episodes!\tAverage Score: 0.50\n"
     ]
    },
    {
     "data": {
      "image/png": "[encoded data removed]",
      "text/plain": [
       "<matplotlib.figure.Figure at 0x7fafc4194668>"
      ]
     },
     "metadata": {
      "needs_background": "light"
     },
     "output_type": "display_data"
    }
   ],
   "source": [
    "def ddpg(scores_deque, scores_total, return_episode, n_episodes=3000, max_t=1368, range_avg=100, checkpoint=100):\n",
    "    for i_episode in range(return_episode, n_episodes+1):\n",
    "            env_info = env.reset(train_mode=True)[brain_name]      # reset the environment    \n",
    "            states = env_info.vector_observations                  # get the current state (for each agent)\n",
    "            scores = np.zeros(num_agents)                          # initialize the score (for each agent)\n",
    "            agent.reset()\n",
    "            for t in range(max_t):\n",
    "                actions = agent.act(states)\n",
    "                env_info = env.step(actions)[brain_name]           # send all actions to tne environment\n",
    "                next_states = env_info.vector_observations         # get next state (for each agent)\n",
    "                rewards = env_info.rewards                         # get reward (for each agent)\n",
    "                dones = env_info.local_done                        # see if episode finished\n",
    "                for s, a, r, ns, d in zip(states, actions, rewards, next_states, dones):\n",
    "                    agent.step(t, s, a, r, ns, d)\n",
    "                scores += rewards                                  # update the score (for each agent)\n",
    "                states = next_states                               # roll over states to next time step\n",
    "                if np.any(dones):                                  # exit loop if episode finished\n",
    "                    break \n",
    "            scores_max = np.max(scores)\n",
    "            scores_deque.append(scores_max)\n",
    "            scores_total.append(scores_max)\n",
    "            print('\\rEpisode {}\\tAverage Score: {:.2f}'.format(i_episode, np.mean(scores_deque)), end=\"\")\n",
    "\n",
    "            if i_episode % checkpoint == 0:\n",
    "                print('\\rEpisode {}\\tAverage Score: {:.2f}'.format(i_episode, np.mean(scores_deque)))\n",
    "\n",
    "                with open('scores_deque.pkl', 'wb') as f:  # save scores_deque\n",
    "                    pickle.dump(scores_deque, f)  \n",
    "\n",
    "                with open('scores_total.pkl', 'wb') as f:  # save scores_total\n",
    "                    pickle.dump(scores_total, f) \n",
    "\n",
    "                with open('return_episode.pkl', 'wb') as f: # save return_episode\n",
    "                    pickle.dump(i_episode, f) \n",
    "\n",
    "                '''Save Actor-Critic Networks'''\n",
    "                torch.save(agent.actor_local.state_dict(), 'checkpoint_actor.pth')\n",
    "                torch.save(agent.critic_local.state_dict(), 'checkpoint_critic.pth')\n",
    "\n",
    "            if len(scores_deque)>=100 and np.mean(scores_deque)>=.5:\n",
    "                print('\\nEnvironment solved in {:d} episodes!\\tAverage Score: {:.2f}'.format(i_episode-range_avg, np.mean(scores_deque)))\n",
    "                torch.save(agent.actor_local.state_dict(), 'checkpoint_actor.pth')\n",
    "                torch.save(agent.critic_local.state_dict(), 'checkpoint_critic.pth')\n",
    "                break    \n",
    "        \n",
    "    return scores_total\n",
    "\n",
    "scores_total = ddpg(scores_deque, scores_total, return_episode)\n",
    "\n",
    "fig = plt.figure()\n",
    "ax = fig.add_subplot(111)\n",
    "plt.plot(np.arange(1, len(scores_total)+1), scores_total)\n",
    "plt.ylabel('Score')\n",
    "plt.xlabel('Episode')\n",
    "plt.show()"
   ]
  },
  {
   "cell_type": "markdown",
   "metadata": {},
   "source": [
    "When finished, you can close the environment."
   ]
  },
  {
   "cell_type": "code",
   "execution_count": 10,
   "metadata": {},
   "outputs": [],
   "source": [
    "env.close()"
   ]
  }
 ],
 "metadata": {
  "kernelspec": {
   "display_name": "Python 3",
   "language": "python",
   "name": "python3"
  },
  "language_info": {
   "codemirror_mode": {
    "name": "ipython",
    "version": 3
   },
   "file_extension": ".py",
   "mimetype": "text/x-python",
   "name": "python",
   "nbconvert_exporter": "python",
   "pygments_lexer": "ipython3",
   "version": "3.6.3"
  }
 },
 "nbformat": 4,
 "nbformat_minor": 2
}
